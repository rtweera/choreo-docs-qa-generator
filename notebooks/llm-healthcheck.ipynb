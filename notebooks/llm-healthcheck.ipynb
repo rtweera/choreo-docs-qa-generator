{
 "cells": [
  {
   "cell_type": "code",
   "execution_count": 8,
   "id": "4bb30b14-be54-4ea0-aa15-506dbbc4e017",
   "metadata": {},
   "outputs": [],
   "source": [
    "from langchain.chat_models import init_chat_model\n",
    "from dotenv import load_dotenv\n",
    "import os"
   ]
  },
  {
   "cell_type": "code",
   "execution_count": 15,
   "id": "ad7f5d23-5318-421d-a0fb-0dff0aacb137",
   "metadata": {},
   "outputs": [],
   "source": [
    "load_dotenv()\n",
    "assert(os.getenv('GOOGLE_API_KEY'))"
   ]
  },
  {
   "cell_type": "code",
   "execution_count": 17,
   "id": "dcb35b35-adfb-46b7-8de6-bfa86982666d",
   "metadata": {},
   "outputs": [],
   "source": [
    "model = init_chat_model('gemini-2.0-flash', model_provider='google-genai')"
   ]
  },
  {
   "cell_type": "code",
   "execution_count": 18,
   "id": "f10a1f62-7e3a-4677-8643-799a0b8ef22d",
   "metadata": {},
   "outputs": [
    {
     "data": {
      "text/plain": [
       "AIMessage(content='Hello there! How can I help you today?', additional_kwargs={}, response_metadata={'prompt_feedback': {'block_reason': 0, 'safety_ratings': []}, 'finish_reason': 'STOP', 'model_name': 'gemini-2.0-flash', 'safety_ratings': []}, id='run--80618d68-307b-4e60-b940-25d1a7dcede9-0', usage_metadata={'input_tokens': 2, 'output_tokens': 11, 'total_tokens': 13, 'input_token_details': {'cache_read': 0}})"
      ]
     },
     "execution_count": 18,
     "metadata": {},
     "output_type": "execute_result"
    }
   ],
   "source": [
    "model.invoke('hello world')"
   ]
  },
  {
   "cell_type": "code",
   "execution_count": null,
   "id": "334f4ec0-26ed-49d1-8b63-b0df7889f98b",
   "metadata": {},
   "outputs": [],
   "source": []
  }
 ],
 "metadata": {
  "kernelspec": {
   "display_name": "Python 3 (ipykernel)",
   "language": "python",
   "name": "python3"
  },
  "language_info": {
   "codemirror_mode": {
    "name": "ipython",
    "version": 3
   },
   "file_extension": ".py",
   "mimetype": "text/x-python",
   "name": "python",
   "nbconvert_exporter": "python",
   "pygments_lexer": "ipython3",
   "version": "3.12.9"
  }
 },
 "nbformat": 4,
 "nbformat_minor": 5
}
